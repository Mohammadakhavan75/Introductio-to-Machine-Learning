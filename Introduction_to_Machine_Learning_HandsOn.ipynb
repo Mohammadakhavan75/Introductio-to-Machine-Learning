{
  "nbformat": 4,
  "nbformat_minor": 0,
  "metadata": {
    "colab": {
      "name": "Introduction to Machine Learning - HandsOn.ipynb",
      "provenance": [],
      "collapsed_sections": [],
      "authorship_tag": "ABX9TyNqrRjKKy09+gGVgqtqhhab",
      "include_colab_link": true
    },
    "kernelspec": {
      "name": "python3",
      "display_name": "Python 3"
    }
  },
  "cells": [
    {
      "cell_type": "markdown",
      "metadata": {
        "id": "view-in-github",
        "colab_type": "text"
      },
      "source": [
        "<a href=\"https://colab.research.google.com/github/Mohammadakhavan75/Introductio-to-Machine-Learning/blob/master/Introduction_to_Machine_Learning_HandsOn.ipynb\" target=\"_parent\"><img src=\"https://colab.research.google.com/assets/colab-badge.svg\" alt=\"Open In Colab\"/></a>"
      ]
    },
    {
      "cell_type": "markdown",
      "metadata": {
        "id": "yA5fmXS5c0gp",
        "colab_type": "text"
      },
      "source": [
        "# **Data preprocessing**"
      ]
    },
    {
      "cell_type": "markdown",
      "metadata": {
        "id": "y_1Io0ysdGSx",
        "colab_type": "text"
      },
      "source": [
        "Standardization"
      ]
    },
    {
      "cell_type": "code",
      "metadata": {
        "id": "83EjjB5XdOHo",
        "colab_type": "code",
        "colab": {}
      },
      "source": [
        "from sklearn import preprocessing\n",
        "import numpy as np"
      ],
      "execution_count": 0,
      "outputs": []
    },
    {
      "cell_type": "code",
      "metadata": {
        "id": "Jz0-yHJ4dbQp",
        "colab_type": "code",
        "colab": {}
      },
      "source": [
        "x_train = np.array([[ 1., -1.,  2.],\n",
        "                    [ 2.,  0.,  0.],\n",
        "                    [ 0.,  1., -1.]])"
      ],
      "execution_count": 0,
      "outputs": []
    },
    {
      "cell_type": "code",
      "metadata": {
        "id": "4sNmo_7odbNt",
        "colab_type": "code",
        "colab": {}
      },
      "source": [
        "x_scaled = preprocessing.scale(x_train)"
      ],
      "execution_count": 0,
      "outputs": []
    },
    {
      "cell_type": "code",
      "metadata": {
        "id": "7NBA7aFlda_p",
        "colab_type": "code",
        "colab": {}
      },
      "source": [
        "x_scaled"
      ],
      "execution_count": 0,
      "outputs": []
    },
    {
      "cell_type": "code",
      "metadata": {
        "id": "nMRk1lukdxR6",
        "colab_type": "code",
        "colab": {}
      },
      "source": [
        "x_scaled.mean(axis=0)"
      ],
      "execution_count": 0,
      "outputs": []
    },
    {
      "cell_type": "code",
      "metadata": {
        "id": "BbwyRWYed0yZ",
        "colab_type": "code",
        "colab": {}
      },
      "source": [
        "x_scaled.std(axis=0)"
      ],
      "execution_count": 0,
      "outputs": []
    },
    {
      "cell_type": "code",
      "metadata": {
        "id": "nj8ByivsbDP1",
        "colab_type": "code",
        "colab": {}
      },
      "source": [
        "scaler = preprocessing.StandardScaler().fit(x_train)\n",
        "scaler"
      ],
      "execution_count": 0,
      "outputs": []
    },
    {
      "cell_type": "code",
      "metadata": {
        "id": "WwIF0GslbQzl",
        "colab_type": "code",
        "colab": {}
      },
      "source": [
        "print(scaler.mean_, scaler.scale_)"
      ],
      "execution_count": 0,
      "outputs": []
    },
    {
      "cell_type": "code",
      "metadata": {
        "id": "i4mZQ81tbVXC",
        "colab_type": "code",
        "colab": {}
      },
      "source": [
        "scaler.transform(x_train)"
      ],
      "execution_count": 0,
      "outputs": []
    },
    {
      "cell_type": "code",
      "metadata": {
        "id": "u8H92f5SboOO",
        "colab_type": "code",
        "colab": {}
      },
      "source": [
        "x_train = np.array([[ 1., -1.,  2.],\n",
        "                    [ 2.,  0.,  0.],\n",
        "                    [ 0.,  1., -1.]])"
      ],
      "execution_count": 0,
      "outputs": []
    },
    {
      "cell_type": "code",
      "metadata": {
        "id": "mMCAmcanbsQA",
        "colab_type": "code",
        "colab": {}
      },
      "source": [
        "min_max_scaler = preprocessing.MinMaxScaler()\n",
        "x_train_minmax = min_max_scaler.fit_transform(X_train)"
      ],
      "execution_count": 0,
      "outputs": []
    },
    {
      "cell_type": "code",
      "metadata": {
        "id": "h-A1mfCIbw5o",
        "colab_type": "code",
        "colab": {}
      },
      "source": [
        "x_train_minmax"
      ],
      "execution_count": 0,
      "outputs": []
    },
    {
      "cell_type": "markdown",
      "metadata": {
        "id": "wov1qDZtcrRQ",
        "colab_type": "text"
      },
      "source": [
        "Non-linear transformation and normalization"
      ]
    },
    {
      "cell_type": "code",
      "metadata": {
        "id": "MJdpuKpYcstc",
        "colab_type": "code",
        "colab": {}
      },
      "source": [
        "from sklearn.datasets import load_iris\n",
        "from sklearn.model_selection import train_test_split\n",
        "x, y = load_iris(return_X_y=True)"
      ],
      "execution_count": 0,
      "outputs": []
    },
    {
      "cell_type": "code",
      "metadata": {
        "id": "oBntaCRId_rb",
        "colab_type": "code",
        "colab": {}
      },
      "source": [
        "quantile_transformer = preprocessing.QuantileTransformer(random_state=0)\n",
        "x_trans = quantile_transformer.fit_transform(x)"
      ],
      "execution_count": 0,
      "outputs": []
    },
    {
      "cell_type": "code",
      "metadata": {
        "id": "4qkpvYJWeHva",
        "colab_type": "code",
        "colab": {}
      },
      "source": [
        "np.percentile(x[:, 0], [0, 25, 50, 75, 100])"
      ],
      "execution_count": 0,
      "outputs": []
    },
    {
      "cell_type": "code",
      "metadata": {
        "id": "qICY29NWeIXg",
        "colab_type": "code",
        "colab": {}
      },
      "source": [
        "np.percentile(x_trans[:, 0], [0, 25, 50, 75, 100])"
      ],
      "execution_count": 0,
      "outputs": []
    },
    {
      "cell_type": "code",
      "metadata": {
        "id": "aKTYfg3ffJ4f",
        "colab_type": "code",
        "colab": {}
      },
      "source": [
        " # NOTE: Box-Cox can only be applied to strictly positive data.\n",
        " pt = preprocessing.PowerTransformer(method='box-cox', standardize=False)"
      ],
      "execution_count": 0,
      "outputs": []
    },
    {
      "cell_type": "code",
      "metadata": {
        "id": "P4QmtOs5g-re",
        "colab_type": "code",
        "colab": {}
      },
      "source": [
        "x_lognormal = np.random.RandomState(616).lognormal(size=(3, 3))"
      ],
      "execution_count": 0,
      "outputs": []
    },
    {
      "cell_type": "code",
      "metadata": {
        "id": "oLwKHxjsg_SS",
        "colab_type": "code",
        "colab": {}
      },
      "source": [
        "x_lognormal"
      ],
      "execution_count": 0,
      "outputs": []
    },
    {
      "cell_type": "code",
      "metadata": {
        "id": "4g9z_TgJhAmj",
        "colab_type": "code",
        "colab": {}
      },
      "source": [
        "pt.fit_transform(x_lognormal)"
      ],
      "execution_count": 0,
      "outputs": []
    },
    {
      "cell_type": "code",
      "metadata": {
        "id": "GMD-j84_iuP1",
        "colab_type": "code",
        "colab": {}
      },
      "source": [
        "quantile_transformer = preprocessing.QuantileTransformer(output_distribution='normal', random_state=0)\n",
        "x_trans = quantile_transformer.fit_transform(x)"
      ],
      "execution_count": 0,
      "outputs": []
    },
    {
      "cell_type": "code",
      "metadata": {
        "id": "wuqiMwe7jpb8",
        "colab_type": "code",
        "colab": {}
      },
      "source": [
        "x = [[ 1., -1.,  2.],\n",
        "     [ 2.,  0.,  0.],\n",
        "     [ 0.,  1., -1.]]\n",
        "x_normalized = preprocessing.normalize(x, norm='l2')\n",
        "x_normalized"
      ],
      "execution_count": 0,
      "outputs": []
    },
    {
      "cell_type": "code",
      "metadata": {
        "id": "PPIE1QxSj-Zk",
        "colab_type": "code",
        "colab": {}
      },
      "source": [
        "normalizer = preprocessing.Normalizer().fit(x)\n",
        "normalizer"
      ],
      "execution_count": 0,
      "outputs": []
    },
    {
      "cell_type": "code",
      "metadata": {
        "id": "hyKlnr9skDNf",
        "colab_type": "code",
        "colab": {}
      },
      "source": [
        "normalizer.transform(x)"
      ],
      "execution_count": 0,
      "outputs": []
    },
    {
      "cell_type": "markdown",
      "metadata": {
        "id": "UlJiBYNbkNto",
        "colab_type": "text"
      },
      "source": [
        "Encoding categorical features"
      ]
    },
    {
      "cell_type": "code",
      "metadata": {
        "id": "bC18KHaukP13",
        "colab_type": "code",
        "colab": {}
      },
      "source": [
        "enc = preprocessing.OrdinalEncoder()\n",
        "x = [['male', 'from US', 'uses Safari'], ['female', 'from Europe', 'uses Firefox']]\n",
        "enc.fit(x)\n",
        "enc.transform([['female', 'from US', 'uses Safari']])"
      ],
      "execution_count": 0,
      "outputs": []
    },
    {
      "cell_type": "code",
      "metadata": {
        "id": "OGHyOJPRlOMP",
        "colab_type": "code",
        "colab": {}
      },
      "source": [
        "x = [['male', 'from US', 'uses Safari'], ['female', 'from Europe', 'uses Firefox'], ['male', 'from Asia', 'uses Edge']]"
      ],
      "execution_count": 0,
      "outputs": []
    },
    {
      "cell_type": "code",
      "metadata": {
        "id": "l1n9fn3RlW_V",
        "colab_type": "code",
        "colab": {}
      },
      "source": [
        "enc.fit(x)\n",
        "enc.transform(x)"
      ],
      "execution_count": 0,
      "outputs": []
    },
    {
      "cell_type": "code",
      "metadata": {
        "id": "sztoVB_llZTB",
        "colab_type": "code",
        "colab": {}
      },
      "source": [
        ""
      ],
      "execution_count": 0,
      "outputs": []
    },
    {
      "cell_type": "markdown",
      "metadata": {
        "id": "9vhbhwSdsqRb",
        "colab_type": "text"
      },
      "source": [
        "Missing values"
      ]
    },
    {
      "cell_type": "code",
      "metadata": {
        "id": "ZKdPBsl_swZW",
        "colab_type": "code",
        "colab": {}
      },
      "source": [
        "!wget https://raw.githubusercontent.com/jbrownlee/Datasets/master/pima-indians-diabetes.csv"
      ],
      "execution_count": 0,
      "outputs": []
    },
    {
      "cell_type": "code",
      "metadata": {
        "id": "5EY-qw9qs0RL",
        "colab_type": "code",
        "colab": {}
      },
      "source": [
        "from pandas import read_csv\n",
        "# load the dataset\n",
        "dataset = read_csv('pima-indians-diabetes.csv', header=None)\n",
        "# summarize the dataset\n",
        "print(dataset.describe())"
      ],
      "execution_count": 0,
      "outputs": []
    },
    {
      "cell_type": "code",
      "metadata": {
        "id": "LPbEyU-PuMHt",
        "colab_type": "code",
        "colab": {}
      },
      "source": [
        "print(dataset.head(20))"
      ],
      "execution_count": 0,
      "outputs": []
    },
    {
      "cell_type": "code",
      "metadata": {
        "id": "DOLvHUatty8A",
        "colab_type": "code",
        "colab": {}
      },
      "source": [
        "import pandas as pd\n",
        "pd.set_option(\"display.max_rows\", None, \"display.max_columns\", None)"
      ],
      "execution_count": 0,
      "outputs": []
    },
    {
      "cell_type": "code",
      "metadata": {
        "id": "K2cSOdXRt5kg",
        "colab_type": "code",
        "colab": {}
      },
      "source": [
        "print(dataset.describe())"
      ],
      "execution_count": 0,
      "outputs": []
    },
    {
      "cell_type": "code",
      "metadata": {
        "id": "XWQK8-cyud2r",
        "colab_type": "code",
        "colab": {}
      },
      "source": [
        "dataset[[1]]"
      ],
      "execution_count": 0,
      "outputs": []
    },
    {
      "cell_type": "code",
      "metadata": {
        "id": "kDGl6CxRuW8I",
        "colab_type": "code",
        "colab": {}
      },
      "source": [
        "# count the number of missing values for each column\n",
        "num_missing = (dataset[[1,2,3,4,5]] == 0).sum()\n",
        "# report the results\n",
        "print(num_missing)"
      ],
      "execution_count": 0,
      "outputs": []
    },
    {
      "cell_type": "code",
      "metadata": {
        "id": "dc8Q5JJFvph1",
        "colab_type": "code",
        "colab": {}
      },
      "source": [
        "from numpy import nan"
      ],
      "execution_count": 0,
      "outputs": []
    },
    {
      "cell_type": "code",
      "metadata": {
        "id": "sVkwYTQavzcw",
        "colab_type": "code",
        "colab": {}
      },
      "source": [
        "dataset.head(20)"
      ],
      "execution_count": 0,
      "outputs": []
    },
    {
      "cell_type": "code",
      "metadata": {
        "id": "iLZ9wq6uu7f6",
        "colab_type": "code",
        "colab": {}
      },
      "source": [
        "dataset[[1,2,3,4,5]].replace(0, nan)"
      ],
      "execution_count": 0,
      "outputs": []
    },
    {
      "cell_type": "code",
      "metadata": {
        "id": "zAZI6u1nu__i",
        "colab_type": "code",
        "colab": {}
      },
      "source": [
        "dataset[[1,2,3,4,5]] = dataset[[1,2,3,4,5]].replace(0, nan)\n",
        "# drop rows with missing values\n",
        "dataset.dropna(inplace=True)"
      ],
      "execution_count": 0,
      "outputs": []
    },
    {
      "cell_type": "code",
      "metadata": {
        "id": "J_QdwI9Bvtrl",
        "colab_type": "code",
        "colab": {}
      },
      "source": [
        "dataset.head(20)"
      ],
      "execution_count": 0,
      "outputs": []
    },
    {
      "cell_type": "code",
      "metadata": {
        "id": "Etbf62x4vWQl",
        "colab_type": "code",
        "colab": {}
      },
      "source": [
        "dataset = read_csv('pima-indians-diabetes.csv', header=None)"
      ],
      "execution_count": 0,
      "outputs": []
    },
    {
      "cell_type": "code",
      "metadata": {
        "id": "C8fzhwe5vXw3",
        "colab_type": "code",
        "colab": {}
      },
      "source": [
        "dataset[[1,2,3,4,5]] = dataset[[1,2,3,4,5]].replace(0, nan)"
      ],
      "execution_count": 0,
      "outputs": []
    },
    {
      "cell_type": "code",
      "metadata": {
        "id": "tBHzCK5KvZfU",
        "colab_type": "code",
        "colab": {}
      },
      "source": [
        "dataset.fillna(dataset.mean(), inplace=True)"
      ],
      "execution_count": 0,
      "outputs": []
    },
    {
      "cell_type": "code",
      "metadata": {
        "id": "rE2-7-kRv7fE",
        "colab_type": "code",
        "colab": {}
      },
      "source": [
        "dataset.head(20)"
      ],
      "execution_count": 0,
      "outputs": []
    },
    {
      "cell_type": "code",
      "metadata": {
        "id": "ELKzCzEcvdEH",
        "colab_type": "code",
        "colab": {}
      },
      "source": [
        "print(dataset.isnull().sum())"
      ],
      "execution_count": 0,
      "outputs": []
    },
    {
      "cell_type": "code",
      "metadata": {
        "id": "AxySrz9Xvezh",
        "colab_type": "code",
        "colab": {}
      },
      "source": [
        "dataset = read_csv('pima-indians-diabetes.csv', header=None)"
      ],
      "execution_count": 0,
      "outputs": []
    },
    {
      "cell_type": "code",
      "metadata": {
        "id": "2I17FKvnwCpW",
        "colab_type": "code",
        "colab": {}
      },
      "source": [
        "from sklearn.impute import SimpleImputer"
      ],
      "execution_count": 0,
      "outputs": []
    },
    {
      "cell_type": "code",
      "metadata": {
        "id": "KKw8-W-KwFjE",
        "colab_type": "code",
        "colab": {}
      },
      "source": [
        "imputer = SimpleImputer(missing_values=nan, strategy='mean')"
      ],
      "execution_count": 0,
      "outputs": []
    },
    {
      "cell_type": "code",
      "metadata": {
        "id": "1gxDsx-4wGz7",
        "colab_type": "code",
        "colab": {}
      },
      "source": [
        "transformed_values = imputer.fit_transform(values)\n",
        "# count the number of NaN values in each column\n",
        "print('Missing: %d' % isnan(transformed_values).sum())"
      ],
      "execution_count": 0,
      "outputs": []
    },
    {
      "cell_type": "markdown",
      "metadata": {
        "id": "uNOM4ueOSViB",
        "colab_type": "text"
      },
      "source": [
        "## **Seaborn**"
      ]
    },
    {
      "cell_type": "markdown",
      "metadata": {
        "id": "xdjf3p_6aClP",
        "colab_type": "text"
      },
      "source": [
        "Scatter plot"
      ]
    },
    {
      "cell_type": "code",
      "metadata": {
        "id": "on37F27mSUNz",
        "colab_type": "code",
        "colab": {}
      },
      "source": [
        "import seaborn as sns"
      ],
      "execution_count": 0,
      "outputs": []
    },
    {
      "cell_type": "code",
      "metadata": {
        "id": "D4vzHXBnSrtT",
        "colab_type": "code",
        "colab": {}
      },
      "source": [
        "sns.set()"
      ],
      "execution_count": 0,
      "outputs": []
    },
    {
      "cell_type": "code",
      "metadata": {
        "id": "xPnB-dhjSsEE",
        "colab_type": "code",
        "colab": {}
      },
      "source": [
        "tips = sns.load_dataset(\"tips\")"
      ],
      "execution_count": 0,
      "outputs": []
    },
    {
      "cell_type": "code",
      "metadata": {
        "id": "1Ha0DXtXWtAb",
        "colab_type": "code",
        "colab": {}
      },
      "source": [
        "tips"
      ],
      "execution_count": 0,
      "outputs": []
    },
    {
      "cell_type": "code",
      "metadata": {
        "id": "8WcBAOc5S2CV",
        "colab_type": "code",
        "colab": {}
      },
      "source": [
        "ax = sns.scatterplot(x=\"total_bill\", y=\"tip\", data=tips)"
      ],
      "execution_count": 0,
      "outputs": []
    },
    {
      "cell_type": "code",
      "metadata": {
        "id": "2BaBeIKfXECv",
        "colab_type": "code",
        "colab": {}
      },
      "source": [
        "ax = sns.scatterplot(x=\"total_bill\", y=\"tip\", data=tips, hue=\"time\", size=\"time\")"
      ],
      "execution_count": 0,
      "outputs": []
    },
    {
      "cell_type": "code",
      "metadata": {
        "id": "V6T2UxAnYDY9",
        "colab_type": "code",
        "colab": {}
      },
      "source": [
        "ax = sns.scatterplot(x=\"total_bill\", y=\"tip\", data=tips, hue=\"size\", size=\"size\", sizes=(20, 200))"
      ],
      "execution_count": 0,
      "outputs": []
    },
    {
      "cell_type": "code",
      "metadata": {
        "id": "uA0qojiKXsQP",
        "colab_type": "code",
        "colab": {}
      },
      "source": [
        "ax = sns.scatterplot(x=\"total_bill\", y=\"tip\", data=tips, hue=\"time\", style=\"time\")"
      ],
      "execution_count": 0,
      "outputs": []
    },
    {
      "cell_type": "code",
      "metadata": {
        "id": "g2sQBv5yYZ9x",
        "colab_type": "code",
        "colab": {}
      },
      "source": [
        "iris = sns.load_dataset(\"iris\")\n",
        "ax = sns.scatterplot(x=iris.sepal_length, y=iris.sepal_width, hue=iris.species, style=iris.species)"
      ],
      "execution_count": 0,
      "outputs": []
    },
    {
      "cell_type": "markdown",
      "metadata": {
        "id": "04gj1rjAaaY7",
        "colab_type": "text"
      },
      "source": [
        "Line plot"
      ]
    },
    {
      "cell_type": "code",
      "metadata": {
        "id": "nErJ-17caBCW",
        "colab_type": "code",
        "colab": {}
      },
      "source": [
        "fmri = sns.load_dataset(\"fmri\")"
      ],
      "execution_count": 0,
      "outputs": []
    },
    {
      "cell_type": "code",
      "metadata": {
        "id": "c87gZB_cai0F",
        "colab_type": "code",
        "colab": {}
      },
      "source": [
        "fmri"
      ],
      "execution_count": 0,
      "outputs": []
    },
    {
      "cell_type": "code",
      "metadata": {
        "id": "4KQGvzYCacMW",
        "colab_type": "code",
        "colab": {}
      },
      "source": [
        "ax = sns.lineplot(x=\"timepoint\", y=\"signal\", data=fmri)"
      ],
      "execution_count": 0,
      "outputs": []
    },
    {
      "cell_type": "code",
      "metadata": {
        "id": "nBmdMOzdbOeq",
        "colab_type": "code",
        "colab": {}
      },
      "source": [
        "ax = sns.lineplot(x=\"timepoint\", y=\"signal\", hue=\"event\", data=fmri)"
      ],
      "execution_count": 0,
      "outputs": []
    },
    {
      "cell_type": "code",
      "metadata": {
        "id": "0x70nR73bz2C",
        "colab_type": "code",
        "colab": {}
      },
      "source": [
        "ax = sns.lineplot(x=\"timepoint\", y=\"signal\", hue=\"event\", style=\"event\", data=fmri)"
      ],
      "execution_count": 0,
      "outputs": []
    },
    {
      "cell_type": "code",
      "metadata": {
        "id": "OT1NPlvKcKsL",
        "colab_type": "code",
        "colab": {}
      },
      "source": [
        "ax = sns.lineplot(x=\"timepoint\", y=\"signal\", hue=\"region\", style=\"event\", data=fmri)"
      ],
      "execution_count": 0,
      "outputs": []
    },
    {
      "cell_type": "code",
      "metadata": {
        "id": "mDPow0n8cQpS",
        "colab_type": "code",
        "colab": {}
      },
      "source": [
        "ax = sns.lineplot(x=\"timepoint\", y=\"signal\", hue=\"event\", style=\"event\", markers=True, dashes=False, data=fmri)"
      ],
      "execution_count": 0,
      "outputs": []
    },
    {
      "cell_type": "code",
      "metadata": {
        "id": "26tHl7I6cugb",
        "colab_type": "code",
        "colab": {}
      },
      "source": [
        "dots = sns.load_dataset(\"dots\").query(\"align == 'dots'\")"
      ],
      "execution_count": 0,
      "outputs": []
    },
    {
      "cell_type": "code",
      "metadata": {
        "id": "NLz8MT3FcyhO",
        "colab_type": "code",
        "colab": {}
      },
      "source": [
        "dots"
      ],
      "execution_count": 0,
      "outputs": []
    },
    {
      "cell_type": "code",
      "metadata": {
        "id": "CmG4vFJkcxsN",
        "colab_type": "code",
        "colab": {}
      },
      "source": [
        "ax = sns.lineplot(x=\"time\", y=\"firing_rate\", hue=\"coherence\", style=\"choice\", data=dots)"
      ],
      "execution_count": 0,
      "outputs": []
    },
    {
      "cell_type": "code",
      "metadata": {
        "id": "F64MHLayd8h9",
        "colab_type": "code",
        "colab": {}
      },
      "source": [
        "palette = sns.color_palette(\"mako_r\", 6)\n",
        "ax = sns.lineplot(x=\"time\", y=\"firing_rate\", hue=\"coherence\", style=\"choice\", palette=palette, data=dots)"
      ],
      "execution_count": 0,
      "outputs": []
    },
    {
      "cell_type": "code",
      "metadata": {
        "id": "4FHXfzaIeuUU",
        "colab_type": "code",
        "colab": {}
      },
      "source": [
        "import numpy as np, pandas as pd\n",
        "index = pd.date_range(\"1 1 2000\", periods=100, freq=\"m\", name=\"date\")\n",
        "data = np.random.randn(100, 4).cumsum(axis=0)\n",
        "wide_df = pd.DataFrame(data, index, [\"a\", \"b\", \"c\", \"d\"])\n",
        "ax = sns.lineplot(data=wide_df)"
      ],
      "execution_count": 0,
      "outputs": []
    },
    {
      "cell_type": "markdown",
      "metadata": {
        "id": "8we0V5fKfF1I",
        "colab_type": "text"
      },
      "source": [
        "Histogram"
      ]
    },
    {
      "cell_type": "code",
      "metadata": {
        "id": "hP9ph19lfIEk",
        "colab_type": "code",
        "colab": {}
      },
      "source": [
        "# distribution plot\n",
        "x = np.random.normal(size=100)\n",
        "sns.distplot(x);"
      ],
      "execution_count": 0,
      "outputs": []
    },
    {
      "cell_type": "code",
      "metadata": {
        "id": "O_laP8l9fQAy",
        "colab_type": "code",
        "colab": {}
      },
      "source": [
        "sns.distplot(x, kde=False)"
      ],
      "execution_count": 0,
      "outputs": []
    },
    {
      "cell_type": "code",
      "metadata": {
        "id": "uE-6O4z8fjFP",
        "colab_type": "code",
        "colab": {}
      },
      "source": [
        "sns.distplot(x, hist=False)"
      ],
      "execution_count": 0,
      "outputs": []
    },
    {
      "cell_type": "code",
      "metadata": {
        "id": "KmGL6Re8fsJO",
        "colab_type": "code",
        "colab": {}
      },
      "source": [
        "sns.distplot(x, bins=20, kde=False)"
      ],
      "execution_count": 0,
      "outputs": []
    },
    {
      "cell_type": "code",
      "metadata": {
        "id": "SSqDel_-gF6O",
        "colab_type": "code",
        "colab": {}
      },
      "source": [
        "mean, cov = [0, 1], [(1, .5), (.5, 1)]\n",
        "data = np.random.multivariate_normal(mean, cov, 200)\n",
        "df = pd.DataFrame(data, columns=[\"x\", \"y\"])"
      ],
      "execution_count": 0,
      "outputs": []
    },
    {
      "cell_type": "code",
      "metadata": {
        "id": "9lucfrQ8gKIO",
        "colab_type": "code",
        "colab": {}
      },
      "source": [
        "sns.jointplot(x=\"x\", y=\"y\", data=df)"
      ],
      "execution_count": 0,
      "outputs": []
    },
    {
      "cell_type": "code",
      "metadata": {
        "id": "fwwvTOpIgQF6",
        "colab_type": "code",
        "colab": {}
      },
      "source": [
        "x, y = np.random.multivariate_normal(mean, cov, 1000).T\n",
        "with sns.axes_style(\"white\"):\n",
        "    sns.jointplot(x=x, y=y, kind=\"hex\", color=\"k\")"
      ],
      "execution_count": 0,
      "outputs": []
    },
    {
      "cell_type": "code",
      "metadata": {
        "id": "JNTwiE2zg_e5",
        "colab_type": "code",
        "colab": {}
      },
      "source": [
        "sns.jointplot(x=x, y=y, kind=\"kde\", color=\"k\");"
      ],
      "execution_count": 0,
      "outputs": []
    },
    {
      "cell_type": "code",
      "metadata": {
        "id": "DP6HYtTfhX-2",
        "colab_type": "code",
        "colab": {}
      },
      "source": [
        "iris = sns.load_dataset(\"iris\")\n",
        "sns.pairplot(iris);"
      ],
      "execution_count": 0,
      "outputs": []
    },
    {
      "cell_type": "code",
      "metadata": {
        "id": "-lr2wY9mhbTO",
        "colab_type": "code",
        "colab": {}
      },
      "source": [
        "sns.pairplot(iris, hue=\"species\")"
      ],
      "execution_count": 0,
      "outputs": []
    },
    {
      "cell_type": "code",
      "metadata": {
        "id": "f5iat-55hqVi",
        "colab_type": "code",
        "colab": {}
      },
      "source": [
        "ax = sns.barplot(x=\"day\", y=\"total_bill\", data=tips)"
      ],
      "execution_count": 0,
      "outputs": []
    },
    {
      "cell_type": "code",
      "metadata": {
        "id": "CwJFqiS4hwX-",
        "colab_type": "code",
        "colab": {}
      },
      "source": [
        "ax = sns.barplot(x=\"day\", y=\"total_bill\", hue=\"sex\", data=tips)"
      ],
      "execution_count": 0,
      "outputs": []
    },
    {
      "cell_type": "code",
      "metadata": {
        "id": "SmXr82jgiB-Z",
        "colab_type": "code",
        "colab": {}
      },
      "source": [
        "uniform_data = np.random.rand(10, 12)\n",
        "ax = sns.heatmap(uniform_data)"
      ],
      "execution_count": 0,
      "outputs": []
    },
    {
      "cell_type": "code",
      "metadata": {
        "id": "08jXfvt8iHfX",
        "colab_type": "code",
        "colab": {}
      },
      "source": [
        "ax = sns.heatmap(uniform_data, vmin=0, vmax=1)"
      ],
      "execution_count": 0,
      "outputs": []
    },
    {
      "cell_type": "code",
      "metadata": {
        "id": "i9qKj-LKidnu",
        "colab_type": "code",
        "colab": {}
      },
      "source": [
        "flights = sns.load_dataset(\"flights\")"
      ],
      "execution_count": 0,
      "outputs": []
    },
    {
      "cell_type": "code",
      "metadata": {
        "id": "jwp9jsR4ifxB",
        "colab_type": "code",
        "colab": {}
      },
      "source": [
        "flights"
      ],
      "execution_count": 0,
      "outputs": []
    },
    {
      "cell_type": "code",
      "metadata": {
        "id": "zMdLaoT5ig_t",
        "colab_type": "code",
        "colab": {}
      },
      "source": [
        "flights = flights.pivot(\"month\", \"year\", \"passengers\")"
      ],
      "execution_count": 0,
      "outputs": []
    },
    {
      "cell_type": "code",
      "metadata": {
        "id": "FNivEdv2ijck",
        "colab_type": "code",
        "colab": {}
      },
      "source": [
        "flights"
      ],
      "execution_count": 0,
      "outputs": []
    },
    {
      "cell_type": "code",
      "metadata": {
        "id": "TgW6erGHiR13",
        "colab_type": "code",
        "colab": {}
      },
      "source": [
        "ax = sns.heatmap(flights)"
      ],
      "execution_count": 0,
      "outputs": []
    },
    {
      "cell_type": "code",
      "metadata": {
        "id": "uCzHHlM7iUwG",
        "colab_type": "code",
        "colab": {}
      },
      "source": [
        "ax = sns.heatmap(flights, annot=True, fmt=\"d\")"
      ],
      "execution_count": 0,
      "outputs": []
    },
    {
      "cell_type": "code",
      "metadata": {
        "id": "QpJFzMF9ixOG",
        "colab_type": "code",
        "colab": {}
      },
      "source": [
        "ax = sns.boxplot(x=tips[\"total_bill\"])"
      ],
      "execution_count": 0,
      "outputs": []
    },
    {
      "cell_type": "code",
      "metadata": {
        "id": "CzQEHsrzjNGx",
        "colab_type": "code",
        "colab": {}
      },
      "source": [
        "ax = sns.boxplot(x=\"day\", y=\"total_bill\", data=tips)"
      ],
      "execution_count": 0,
      "outputs": []
    },
    {
      "cell_type": "markdown",
      "metadata": {
        "id": "GHjm4xgY6Lgs",
        "colab_type": "text"
      },
      "source": [
        "# **Loading data**"
      ]
    },
    {
      "cell_type": "code",
      "metadata": {
        "id": "Yp6fA9txa68m",
        "colab_type": "code",
        "colab": {}
      },
      "source": [
        "from sklearn.datasets import load_iris\n",
        "iris_data = load_iris()"
      ],
      "execution_count": 0,
      "outputs": []
    },
    {
      "cell_type": "code",
      "metadata": {
        "id": "_E311mcgbYzr",
        "colab_type": "code",
        "colab": {}
      },
      "source": [
        "iris_data"
      ],
      "execution_count": 0,
      "outputs": []
    },
    {
      "cell_type": "code",
      "metadata": {
        "id": "oD9XqS6Oa-O7",
        "colab_type": "code",
        "colab": {}
      },
      "source": [
        "x = iris_data.data\n",
        "y = iris_data.target"
      ],
      "execution_count": 0,
      "outputs": []
    },
    {
      "cell_type": "code",
      "metadata": {
        "id": "MLFXXMFga-lk",
        "colab_type": "code",
        "colab": {}
      },
      "source": [
        "x, y"
      ],
      "execution_count": 0,
      "outputs": []
    },
    {
      "cell_type": "code",
      "metadata": {
        "id": "o9Pc2a2rWWVZ",
        "colab_type": "code",
        "colab": {}
      },
      "source": [
        "x.shape, y.shape"
      ],
      "execution_count": 0,
      "outputs": []
    },
    {
      "cell_type": "code",
      "metadata": {
        "id": "nw_nnZYO1ZiK",
        "colab_type": "code",
        "colab": {}
      },
      "source": [
        "from sklearn.model_selection import train_test_split\n",
        "x_train, x_test, y_train, y_test = train_test_split(x, y, test_size=0.33, random_state=42, shuffle=True)"
      ],
      "execution_count": 0,
      "outputs": []
    },
    {
      "cell_type": "markdown",
      "metadata": {
        "id": "-njGLEth5ohj",
        "colab_type": "text"
      },
      "source": [
        "# **K-nearest neighbor**"
      ]
    },
    {
      "cell_type": "code",
      "metadata": {
        "id": "nPRBsqpG5njt",
        "colab_type": "code",
        "colab": {}
      },
      "source": [
        "from sklearn.neighbors import KNeighborsClassifier"
      ],
      "execution_count": 0,
      "outputs": []
    },
    {
      "cell_type": "code",
      "metadata": {
        "id": "CyqxD0Q36mGB",
        "colab_type": "code",
        "colab": {}
      },
      "source": [
        "neigh = KNeighborsClassifier(n_neighbors=3)"
      ],
      "execution_count": 0,
      "outputs": []
    },
    {
      "cell_type": "code",
      "metadata": {
        "id": "CeSp_oCB6sd7",
        "colab_type": "code",
        "colab": {}
      },
      "source": [
        "neigh.fit(x_train, y_train)"
      ],
      "execution_count": 0,
      "outputs": []
    },
    {
      "cell_type": "code",
      "metadata": {
        "id": "z8oEUvd_61GG",
        "colab_type": "code",
        "colab": {}
      },
      "source": [
        "y_pred = neigh.predict(x_test)"
      ],
      "execution_count": 0,
      "outputs": []
    },
    {
      "cell_type": "code",
      "metadata": {
        "id": "CaovSUlE66SG",
        "colab_type": "code",
        "colab": {}
      },
      "source": [
        "y_pred"
      ],
      "execution_count": 0,
      "outputs": []
    },
    {
      "cell_type": "code",
      "metadata": {
        "id": "mfI_dBKV2XVb",
        "colab_type": "code",
        "colab": {}
      },
      "source": [
        "counter = 0\n",
        "for i in range(len(y_test)):\n",
        "    if y_test[i] == y_pred[i]:\n",
        "        counter += 1\n",
        "print(counter/len(y_test))"
      ],
      "execution_count": 0,
      "outputs": []
    },
    {
      "cell_type": "code",
      "metadata": {
        "id": "J4S8qRlX7Hhi",
        "colab_type": "code",
        "colab": {}
      },
      "source": [
        "from sklearn.metrics import accuracy_score\n",
        "accuracy_score(y_test, y_pred)"
      ],
      "execution_count": 0,
      "outputs": []
    },
    {
      "cell_type": "code",
      "metadata": {
        "id": "lE6J7QEk8Udq",
        "colab_type": "code",
        "colab": {}
      },
      "source": [
        "neigh.predict_proba(x_test)"
      ],
      "execution_count": 0,
      "outputs": []
    },
    {
      "cell_type": "markdown",
      "metadata": {
        "id": "ghP-7cLZ5fGN",
        "colab_type": "text"
      },
      "source": [
        "# **Support-vector machine**"
      ]
    },
    {
      "cell_type": "code",
      "metadata": {
        "id": "Ihse__9bbetT",
        "colab_type": "code",
        "colab": {}
      },
      "source": [
        "from sklearn.svm import SVC\n",
        "clf = SVC()"
      ],
      "execution_count": 0,
      "outputs": []
    },
    {
      "cell_type": "code",
      "metadata": {
        "id": "A87JcQ4DbkYz",
        "colab_type": "code",
        "colab": {}
      },
      "source": [
        "clf.fit(x_train, y_train)"
      ],
      "execution_count": 0,
      "outputs": []
    },
    {
      "cell_type": "code",
      "metadata": {
        "id": "eJsLFiyG1JTt",
        "colab_type": "code",
        "colab": {}
      },
      "source": [
        "y_pred = clf.predict(x_test)"
      ],
      "execution_count": 0,
      "outputs": []
    },
    {
      "cell_type": "code",
      "metadata": {
        "id": "nZM6mFsK15KK",
        "colab_type": "code",
        "colab": {}
      },
      "source": [
        "y_pred"
      ],
      "execution_count": 0,
      "outputs": []
    },
    {
      "cell_type": "code",
      "metadata": {
        "id": "dP_cCgkI2zg0",
        "colab_type": "code",
        "colab": {}
      },
      "source": [
        "accuracy_score(y_test, y_pred)"
      ],
      "execution_count": 0,
      "outputs": []
    },
    {
      "cell_type": "markdown",
      "metadata": {
        "id": "Q2NZsfZ7UXx1",
        "colab_type": "text"
      },
      "source": [
        "# **Linear regression**"
      ]
    },
    {
      "cell_type": "code",
      "metadata": {
        "id": "PqUvSc7K3c0Y",
        "colab_type": "code",
        "colab": {}
      },
      "source": [
        "from sklearn import datasets, linear_model\n",
        "import numpy as np"
      ],
      "execution_count": 0,
      "outputs": []
    },
    {
      "cell_type": "code",
      "metadata": {
        "id": "g_nB6wrkUsaa",
        "colab_type": "code",
        "colab": {}
      },
      "source": [
        "x, y = datasets.load_diabetes(return_X_y=True)"
      ],
      "execution_count": 0,
      "outputs": []
    },
    {
      "cell_type": "code",
      "metadata": {
        "id": "7yob5kNZU8jQ",
        "colab_type": "code",
        "colab": {}
      },
      "source": [
        "x, y"
      ],
      "execution_count": 0,
      "outputs": []
    },
    {
      "cell_type": "code",
      "metadata": {
        "id": "dAVT4IMsWNOS",
        "colab_type": "code",
        "colab": {}
      },
      "source": [
        "x.shape, y.shape"
      ],
      "execution_count": 0,
      "outputs": []
    },
    {
      "cell_type": "code",
      "metadata": {
        "id": "ja4P9cewVHiE",
        "colab_type": "code",
        "colab": {}
      },
      "source": [
        "x[:5]"
      ],
      "execution_count": 0,
      "outputs": []
    },
    {
      "cell_type": "code",
      "metadata": {
        "id": "rz3ZjCiuVmhN",
        "colab_type": "code",
        "colab": {}
      },
      "source": [
        "x[:5, 2]"
      ],
      "execution_count": 0,
      "outputs": []
    },
    {
      "cell_type": "code",
      "metadata": {
        "id": "vJy4dOiIVw1H",
        "colab_type": "code",
        "colab": {}
      },
      "source": [
        "x[:5, np.newaxis, 2]"
      ],
      "execution_count": 0,
      "outputs": []
    },
    {
      "cell_type": "code",
      "metadata": {
        "id": "MVvak-5IZZ98",
        "colab_type": "code",
        "colab": {}
      },
      "source": [
        "x = x[:, np.newaxis, 2]"
      ],
      "execution_count": 0,
      "outputs": []
    },
    {
      "cell_type": "code",
      "metadata": {
        "id": "l5-OViCBWuiN",
        "colab_type": "code",
        "colab": {}
      },
      "source": [
        "x_train, x_test, y_train, y_test = train_test_split(x, y, test_size=0.33, random_state=42, shuffle=True)"
      ],
      "execution_count": 0,
      "outputs": []
    },
    {
      "cell_type": "code",
      "metadata": {
        "id": "gL66rAY0WKUK",
        "colab_type": "code",
        "colab": {}
      },
      "source": [
        "regr = linear_model.LinearRegression()"
      ],
      "execution_count": 0,
      "outputs": []
    },
    {
      "cell_type": "code",
      "metadata": {
        "id": "5fa1iddjWzf4",
        "colab_type": "code",
        "colab": {}
      },
      "source": [
        "regr.fit(x_train, y_train)"
      ],
      "execution_count": 0,
      "outputs": []
    },
    {
      "cell_type": "code",
      "metadata": {
        "id": "T7KOBV6DW54Q",
        "colab_type": "code",
        "colab": {}
      },
      "source": [
        "y_pred = regr.predict(x_test)"
      ],
      "execution_count": 0,
      "outputs": []
    },
    {
      "cell_type": "code",
      "metadata": {
        "id": "-GDuLVCxW_nQ",
        "colab_type": "code",
        "colab": {}
      },
      "source": [
        "from sklearn.metrics import mean_squared_error, r2_score, accuracy_score"
      ],
      "execution_count": 0,
      "outputs": []
    },
    {
      "cell_type": "code",
      "metadata": {
        "id": "ozfpo01gXQgj",
        "colab_type": "code",
        "colab": {}
      },
      "source": [
        "# The mean squared error\n",
        "print('Mean squared error: %.2f' % mean_squared_error(y_test, y_pred))"
      ],
      "execution_count": 0,
      "outputs": []
    },
    {
      "cell_type": "code",
      "metadata": {
        "id": "tSEmLNGAXWqp",
        "colab_type": "code",
        "colab": {}
      },
      "source": [
        "# The coefficient of determination: 1 is perfect prediction\n",
        "print('Coefficient of determination: %.2f' % r2_score(y_test, y_pred))"
      ],
      "execution_count": 0,
      "outputs": []
    },
    {
      "cell_type": "code",
      "metadata": {
        "id": "LaSnXf2UXuRV",
        "colab_type": "code",
        "colab": {}
      },
      "source": [
        "import matplotlib.pyplot as plt\n",
        "plt.scatter(x_test, y_test,  color='black')\n",
        "plt.plot(x_test, y_pred, color='red', linewidth=3)\n",
        "\n",
        "plt.xticks(())\n",
        "plt.yticks(())\n",
        "\n",
        "plt.show()"
      ],
      "execution_count": 0,
      "outputs": []
    },
    {
      "cell_type": "markdown",
      "metadata": {
        "id": "BwDX3e99dbrC",
        "colab_type": "text"
      },
      "source": [
        "# **Decision tree**"
      ]
    },
    {
      "cell_type": "code",
      "metadata": {
        "id": "pSvlfwxYnLLA",
        "colab_type": "code",
        "colab": {}
      },
      "source": [
        "x = iris_data.data\n",
        "y = iris_data.target"
      ],
      "execution_count": 0,
      "outputs": []
    },
    {
      "cell_type": "code",
      "metadata": {
        "id": "fhZO35QBnLsC",
        "colab_type": "code",
        "colab": {}
      },
      "source": [
        "from sklearn.model_selection import train_test_split\n",
        "x_train, x_test, y_train, y_test = train_test_split(x, y, test_size=0.33, random_state=42, shuffle=True)"
      ],
      "execution_count": 0,
      "outputs": []
    },
    {
      "cell_type": "code",
      "metadata": {
        "id": "BCKsLsINahFC",
        "colab_type": "code",
        "colab": {}
      },
      "source": [
        "from sklearn.tree import DecisionTreeClassifier\n",
        "clf = DecisionTreeClassifier()\n",
        "clf = clf.fit(x_train, y_train)"
      ],
      "execution_count": 0,
      "outputs": []
    },
    {
      "cell_type": "code",
      "metadata": {
        "id": "ssiSpn-kdweH",
        "colab_type": "code",
        "colab": {}
      },
      "source": [
        "y_pred = clf.predict(x_test)"
      ],
      "execution_count": 0,
      "outputs": []
    },
    {
      "cell_type": "code",
      "metadata": {
        "id": "KS7-5BgYmcLm",
        "colab_type": "code",
        "colab": {}
      },
      "source": [
        "accuracy_score(y_test, y_pred)"
      ],
      "execution_count": 0,
      "outputs": []
    },
    {
      "cell_type": "code",
      "metadata": {
        "id": "U3Tbtq4pmhPZ",
        "colab_type": "code",
        "colab": {}
      },
      "source": [
        "from sklearn import tree\n",
        "tree.plot_tree(clf.fit(x_train, y_train)) "
      ],
      "execution_count": 0,
      "outputs": []
    },
    {
      "cell_type": "code",
      "metadata": {
        "id": "Ci5ZPcTam3fj",
        "colab_type": "code",
        "colab": {}
      },
      "source": [
        "import graphviz \n",
        "dot_data = tree.export_graphviz(clf, out_file=None) \n",
        "graph = graphviz.Source(dot_data) \n",
        "graph.render(\"iris\") "
      ],
      "execution_count": 0,
      "outputs": []
    },
    {
      "cell_type": "code",
      "metadata": {
        "id": "tBtH5qlYnSIH",
        "colab_type": "code",
        "colab": {}
      },
      "source": [
        "dot_data = tree.export_graphviz(clf, out_file=None, feature_names=iris.feature_names,  class_names=iris.target_names,  filled=True, rounded=True,  special_characters=True)  \n",
        "graph = graphviz.Source(dot_data)  \n",
        "graph "
      ],
      "execution_count": 0,
      "outputs": []
    },
    {
      "cell_type": "markdown",
      "metadata": {
        "id": "LcD7_Md8MNgJ",
        "colab_type": "text"
      },
      "source": [
        "# **Random forest**"
      ]
    },
    {
      "cell_type": "code",
      "metadata": {
        "id": "prYK6gMmnh9P",
        "colab_type": "code",
        "colab": {}
      },
      "source": [
        "from sklearn.ensemble import RandomForestClassifier\n",
        "clf = RandomForestClassifier(n_estimators=3)"
      ],
      "execution_count": 0,
      "outputs": []
    },
    {
      "cell_type": "code",
      "metadata": {
        "id": "Ptaenryn9I6V",
        "colab_type": "code",
        "colab": {}
      },
      "source": [
        "clf.fit(x_train, y_train)"
      ],
      "execution_count": 0,
      "outputs": []
    },
    {
      "cell_type": "code",
      "metadata": {
        "id": "w0hO1BfE9N3k",
        "colab_type": "code",
        "colab": {}
      },
      "source": [
        "y_pred = clf.predict(x_test)"
      ],
      "execution_count": 0,
      "outputs": []
    },
    {
      "cell_type": "code",
      "metadata": {
        "id": "2L5jXZLX9UVs",
        "colab_type": "code",
        "colab": {}
      },
      "source": [
        "accuracy_score(y_pred, y_test)"
      ],
      "execution_count": 0,
      "outputs": []
    },
    {
      "cell_type": "markdown",
      "metadata": {
        "id": "fIHaJnp3MRGl",
        "colab_type": "text"
      },
      "source": [
        "# **Boosting**"
      ]
    },
    {
      "cell_type": "code",
      "metadata": {
        "id": "X22IB-HeECLm",
        "colab_type": "code",
        "colab": {}
      },
      "source": [
        "from sklearn.ensemble import AdaBoostClassifier\n",
        "clf = AdaBoostClassifier(n_estimators=10, random_state=0)"
      ],
      "execution_count": 0,
      "outputs": []
    },
    {
      "cell_type": "code",
      "metadata": {
        "id": "Cymxk17HEEm-",
        "colab_type": "code",
        "colab": {}
      },
      "source": [
        "clf.fit(x_train, y_train)"
      ],
      "execution_count": 0,
      "outputs": []
    },
    {
      "cell_type": "code",
      "metadata": {
        "id": "VkLW8_NzENf-",
        "colab_type": "code",
        "colab": {}
      },
      "source": [
        "y_pred = clf.predict(x_test)"
      ],
      "execution_count": 0,
      "outputs": []
    },
    {
      "cell_type": "code",
      "metadata": {
        "id": "ufOa6TFeEP7k",
        "colab_type": "code",
        "colab": {}
      },
      "source": [
        "accuracy_score(y_pred, y_test)"
      ],
      "execution_count": 0,
      "outputs": []
    }
  ]
}